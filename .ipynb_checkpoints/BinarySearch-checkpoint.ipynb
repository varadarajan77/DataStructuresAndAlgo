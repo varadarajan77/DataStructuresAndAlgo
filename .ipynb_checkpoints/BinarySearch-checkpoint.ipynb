{
 "cells": [
  {
   "cell_type": "code",
   "execution_count": 9,
   "metadata": {},
   "outputs": [],
   "source": [
    "def binary_search(list_of_numbers, last_position, first_position, key):\n",
    "    \n",
    "    middle_position = int((first_position + last_position)/2)\n",
    "    \n",
    "    # If element in not there in the list\n",
    "    if first_position == last_position and list_of_numbers[first_position] != key:\n",
    "        return -1\n",
    "    \n",
    "    # Perform binary search\n",
    "    if list_of_numbers[middle_position] == key:\n",
    "        return middle_position\n",
    "    elif list_of_numbers[middle_position] > key:\n",
    "        return binary_search(list_of_numbers,middle_position-1,first_position,key)\n",
    "    else: \n",
    "        return binary_search(list_of_numbers, last_position, middle_position+1,key)\n",
    "    "
   ]
  },
  {
   "cell_type": "code",
   "execution_count": 10,
   "metadata": {
    "collapsed": true
   },
   "outputs": [],
   "source": [
    "x = [1,3,5,6,8,9,10,15,25,36,46,50]"
   ]
  },
  {
   "cell_type": "code",
   "execution_count": 14,
   "metadata": {},
   "outputs": [
    {
     "name": "stdout",
     "output_type": "stream",
     "text": [
      "The element 5 is found in positions: 6\n"
     ]
    }
   ],
   "source": [
    "position_of_element = binary_search(x, len(x)-1, 0, 10)\n",
    "print(\"The element 5 is found in positions: \" + str(position_of_element))"
   ]
  },
  {
   "cell_type": "code",
   "execution_count": null,
   "metadata": {
    "collapsed": true
   },
   "outputs": [],
   "source": []
  }
 ],
 "metadata": {
  "kernelspec": {
   "display_name": "Python 3",
   "language": "python",
   "name": "python3"
  },
  "language_info": {
   "codemirror_mode": {
    "name": "ipython",
    "version": 3
   },
   "file_extension": ".py",
   "mimetype": "text/x-python",
   "name": "python",
   "nbconvert_exporter": "python",
   "pygments_lexer": "ipython3",
   "version": "3.6.2"
  }
 },
 "nbformat": 4,
 "nbformat_minor": 2
}
