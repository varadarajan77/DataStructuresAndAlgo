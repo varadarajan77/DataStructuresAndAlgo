{
 "cells": [
  {
   "cell_type": "code",
   "execution_count": 24,
   "metadata": {},
   "outputs": [],
   "source": [
    "def are_strings_anagrams(string_1, string_2):\n",
    "    \n",
    "    if len(string_1) != len(string_2):\n",
    "        return False\n",
    "    \n",
    "    hash_map = {}\n",
    "    \n",
    "    for alphabet in string_1:\n",
    "        if hash_map.get(alphabet):\n",
    "            hash_map[alphabet] += 1\n",
    "        else:\n",
    "            hash_map[alphabet] = 1\n",
    "        \n",
    "    for alphabet in string_2:\n",
    "        if hash_map.get(alphabet):\n",
    "            hash_map[alphabet] -= 1\n",
    "            if hash_map[alphabet] == 0:\n",
    "                del(hash_map[alphabet])\n",
    "        else:\n",
    "            return False\n",
    "    \n",
    "    return True   "
   ]
  },
  {
   "cell_type": "code",
   "execution_count": 26,
   "metadata": {},
   "outputs": [
    {
     "name": "stdout",
     "output_type": "stream",
     "text": [
      "False\n"
     ]
    }
   ],
   "source": [
    "print(are_strings_anagrams('abcd','cadbe'))"
   ]
  },
  {
   "cell_type": "code",
   "execution_count": null,
   "metadata": {
    "collapsed": true
   },
   "outputs": [],
   "source": []
  }
 ],
 "metadata": {
  "kernelspec": {
   "display_name": "Python 2",
   "language": "python",
   "name": "python2"
  },
  "language_info": {
   "codemirror_mode": {
    "name": "ipython",
    "version": 3
   },
   "file_extension": ".py",
   "mimetype": "text/x-python",
   "name": "python",
   "nbconvert_exporter": "python",
   "pygments_lexer": "ipython3",
   "version": "3.6.2"
  }
 },
 "nbformat": 4,
 "nbformat_minor": 2
}
