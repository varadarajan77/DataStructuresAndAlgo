{
 "cells": [
  {
   "cell_type": "code",
   "execution_count": null,
   "metadata": {
    "collapsed": true
   },
   "outputs": [],
   "source": [
    "class Node(object):\n",
    "    def __init__(self, value):\n",
    "        self.value = value\n",
    "        self.edges = []\n",
    "\n",
    "class Edge(object):\n",
    "    def __init__(self, node_from, node_to, edge_value):\n",
    "        self.node_from = node_from\n",
    "        self.node_to = node_to\n",
    "        self.edge_value = edge_value\n"
   ]
  },
  {
   "cell_type": "code",
   "execution_count": null,
   "metadata": {
    "collapsed": true
   },
   "outputs": [],
   "source": [
    "class Graph(object):\n",
    "    def __init__(self, nodes = [], edges = []):\n",
    "        self.nodes = nodes\n",
    "        self.edges = edges\n",
    "        \n",
    "    def insert_node(self, node_value):\n",
    "        new_node = Node(node_value)\n",
    "        self.nodes.append(new_node)\n",
    "    \n",
    "    def insert_edge(self, from_node_value, to_node_value, edge_value):\n",
    "        from_node = None\n",
    "        to_node = None\n",
    "        for node in self.nodes:\n",
    "            if from_node_value == node.value:\n",
    "                from_node = node\n",
    "            if to_node_value == node.value:\n",
    "                to_node = node\n",
    "        \n",
    "        if from_node == None:\n",
    "            from_node = Node(from_node_value)\n",
    "            self.nodes.append(from_node)\n",
    "        \n",
    "        if to_node == None:\n",
    "            to_node = Node(to_node_value)\n",
    "            self.nodes.append(to_node)\n",
    "            \n",
    "        new_edge = Edge(from_node, to_node, edge_value)\n",
    "        from_node.edges.append(new_edge)\n",
    "        to_node.edges.append(new_edge)\n",
    "        self.edges.append(new_edge) "
   ]
  },
  {
   "cell_type": "code",
   "execution_count": null,
   "metadata": {
    "collapsed": true
   },
   "outputs": [],
   "source": [
    "g1 = Graph()\n",
    "g1.insert_edge(0,1,10)\n",
    "g1.insert_edge(0,2,20)\n",
    "g1.insert_edge(0,3,50)\n",
    "g1.insert_edge(2,4,10)"
   ]
  },
  {
   "cell_type": "code",
   "execution_count": 4,
   "metadata": {},
   "outputs": [
    {
     "name": "stdout",
     "output_type": "stream",
     "text": [
      "False\n"
     ]
    }
   ],
   "source": [
    "class Node(object):\n",
    "    def __init__(self, value = None, neighbours = None):\n",
    "        self.value = value\n",
    "        self.neighbours = neighbours\n",
    "        self.visited = 'UNVISITED'\n",
    "\n",
    "    \n",
    "def deep_clone(root_node):\n",
    "    node_map = {}\n",
    "    new_head = Node(root_node.value, [])\n",
    "    queue = [root_node]\n",
    "    node_map[root_node] = new_head\n",
    "    while queue:\n",
    "        current_node = queue.pop(0) \n",
    "        current_neighbours = current_node.neighbours\n",
    "        for neighbour in current_neighbours:\n",
    "            if not node_map.get(neighbour):\n",
    "                new_node = Node(neighbour.value, [])\n",
    "                node_map[neighbour] = new_node\n",
    "                node_map[current_node].neighbours.append(node_map[neighbour])\n",
    "                queue.append(neighbour)\n",
    "            else:\n",
    "                node_map[current_node].neighbours.append(node_map[neighbour])\n",
    "    print(node_map)\n",
    "    return node_map[root_node]\n",
    "\n",
    "n0 = Node(0, [])\n",
    "n1 = Node(1, [])\n",
    "n2 = Node(2, [])\n",
    "n3 = Node(3, [])\n",
    "n4 = Node(4, [])\n",
    "\n",
    "n0.neighbours.append(n1)\n",
    "# n0.neighbours.append(n2)\n",
    "n1.neighbours.append(n2)\n",
    "# n1.neighbours.append(n3)\n",
    "# n1.neighbours.append(n4)\n",
    "n2.neighbours.append(n0)\n",
    "# n2.neighbours.append(n3)\n",
    "# n3.neighbours.append(n4)\n",
    "\n",
    "## Find if path exists between 2 nodes\n",
    "\n",
    "def does_path_exist(start_node, end_node):\n",
    "    queue_for_visiting = [start_node]\n",
    "    while len(queue_for_visiting):\n",
    "        \n",
    "        current_node = queue_for_visiting.pop()\n",
    "        neighbours = current_node.neighbours\n",
    "        for neighbour in neighbours:\n",
    "            if neighbour.visited == 'UNVISITED':\n",
    "                if neighbour == end_node:\n",
    "                    return True\n",
    "                else:\n",
    "                    queue_for_visiting.append(neighbour)\n",
    "        \n",
    "        current_node.visited = 'VISITED'\n",
    "    \n",
    "    return False\n",
    "\n",
    "print(does_path_exist(n2,n3))"
   ]
  },
  {
   "cell_type": "code",
   "execution_count": null,
   "metadata": {},
   "outputs": [],
   "source": [
    "cloned_node = deep_clone(n0)"
   ]
  },
  {
   "cell_type": "markdown",
   "metadata": {},
   "source": [
    "## Trees"
   ]
  },
  {
   "cell_type": "code",
   "execution_count": 5,
   "metadata": {
    "collapsed": true
   },
   "outputs": [],
   "source": [
    "class TreeNode():\n",
    "    def __init__(self, value):\n",
    "        self.value = value\n",
    "        self.right = None\n",
    "        self.left = None"
   ]
  },
  {
   "cell_type": "code",
   "execution_count": 6,
   "metadata": {
    "collapsed": true
   },
   "outputs": [],
   "source": [
    "class Tree():\n",
    "    def __init__(self, root = None):\n",
    "        self.root = root\n",
    "        \n",
    "    def print_tree(self):\n",
    "        return self.preorder_print(self.root, \"\")[:-1]\n",
    "    \n",
    "    def preorder_print(self, start, traversal):\n",
    "        if start:\n",
    "            traversal = self.preorder_print(start.left, traversal)\n",
    "            traversal = self.preorder_print(start.right, traversal) \n",
    "            traversal += (str(start.value) + \"-\")\n",
    "        return traversal"
   ]
  },
  {
   "cell_type": "code",
   "execution_count": 7,
   "metadata": {},
   "outputs": [],
   "source": [
    "sorted_array = [1,2,3,4,5,6,7,8,9,10]\n",
    "\n",
    "def create_binary_search_tree(sorted_array, start_position, end_position):\n",
    "    if end_position < start_position:\n",
    "        return\n",
    "    \n",
    "    middle_position = int((start_position+end_position)/2)\n",
    "    tree_node = TreeNode(sorted_array[middle_position])\n",
    "    tree_node.left = create_binary_search_tree(sorted_array, start_position, middle_position-1)\n",
    "    tree_node.right = create_binary_search_tree(sorted_array, middle_position+1, end_position)\n",
    "    \n",
    "    return tree_node"
   ]
  },
  {
   "cell_type": "code",
   "execution_count": 8,
   "metadata": {
    "collapsed": true
   },
   "outputs": [],
   "source": [
    "root_node = create_binary_search_tree(sorted_array, 0, len(sorted_array)-1)"
   ]
  },
  {
   "cell_type": "code",
   "execution_count": 9,
   "metadata": {},
   "outputs": [
    {
     "name": "stdout",
     "output_type": "stream",
     "text": [
      "5\n"
     ]
    }
   ],
   "source": [
    "print(root_node.value)"
   ]
  },
  {
   "cell_type": "code",
   "execution_count": 10,
   "metadata": {
    "collapsed": true
   },
   "outputs": [],
   "source": [
    "tree_test = Tree(root_node)"
   ]
  },
  {
   "cell_type": "code",
   "execution_count": 11,
   "metadata": {},
   "outputs": [
    {
     "name": "stdout",
     "output_type": "stream",
     "text": [
      "1-4-3-2-7-6-10-9-8-5\n"
     ]
    }
   ],
   "source": [
    "print(tree_test.print_tree())"
   ]
  },
  {
   "cell_type": "code",
   "execution_count": null,
   "metadata": {
    "collapsed": true
   },
   "outputs": [],
   "source": []
  }
 ],
 "metadata": {
  "kernelspec": {
   "display_name": "Python 2",
   "language": "python",
   "name": "python2"
  },
  "language_info": {
   "codemirror_mode": {
    "name": "ipython",
    "version": 3
   },
   "file_extension": ".py",
   "mimetype": "text/x-python",
   "name": "python",
   "nbconvert_exporter": "python",
   "pygments_lexer": "ipython3",
   "version": "3.6.2"
  }
 },
 "nbformat": 4,
 "nbformat_minor": 2
}
