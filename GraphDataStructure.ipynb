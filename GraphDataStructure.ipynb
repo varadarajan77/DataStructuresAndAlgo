{
 "cells": [
  {
   "cell_type": "code",
   "execution_count": null,
   "metadata": {
    "collapsed": true
   },
   "outputs": [],
   "source": [
    "class Node(object):\n",
    "    def __init__(self, value):\n",
    "        self.values = values\n",
    "        self.edges = []\n",
    "\n",
    "class Edges(object):\n",
    "    def __init__(self, edge_value, node_from, node_to):\n",
    "        self.edge_value = edge_value\n",
    "        self.node_from = node_from\n",
    "        self.node_to = node_to\n",
    "    \n",
    "class Graph(object):\n",
    "    def __init__(self, nodes = [], edges = []):\n",
    "        self.nodes = []\n",
    "        self.edges = []\n",
    "    \n",
    "    def add_node(self, new_node_value):\n",
    "        new_node = Node(new_node_value)\n",
    "        self.nodes.append(new_node)\n",
    "    \n",
    "    def add_edge(self, edge_value, node_from_value, node_to_value):\n",
    "        \n",
    "        node_from = None\n",
    "        node_to = None\n",
    "        for node in self.nodes:\n",
    "            if node.value == node_from_value:\n",
    "                node_from = node\n",
    "            if node.value == node_to_value:\n",
    "                node_to = node\n",
    "\n",
    "        if node_from == None:\n",
    "            node_from = Node(node_from_value)\n",
    "            self.nodes.append(node_from)\n",
    "        \n",
    "        if node_to == None:\n",
    "            node_to = Node(node_to_value)\n",
    "            self.nodes.append(node_to)\n",
    "            \n",
    "        new_edge = Edges(edge_value, node_from, node_to)\n",
    "        node_from.edges.append(new_edge)\n",
    "        node_to.edge.append(new_edge)\n",
    "        self.edges.append(new_edge)"
   ]
  },
  {
   "cell_type": "code",
   "execution_count": null,
   "metadata": {
    "collapsed": true
   },
   "outputs": [],
   "source": [
    "class Node(object):\n",
    "    def __init__(self, value):\n",
    "        self.value = value\n",
    "        self.edges = []\n",
    "\n",
    "class Edge(object):\n",
    "    def __init__(self, node_from, node_to, edge_value):\n",
    "        self.node_from = node_from\n",
    "        self.node_to = node_to\n",
    "        self.edge_value = edge_value\n"
   ]
  },
  {
   "cell_type": "code",
   "execution_count": null,
   "metadata": {
    "collapsed": true
   },
   "outputs": [],
   "source": [
    "class Graph(object):\n",
    "    def __init__(self, nodes = [], edges = []):\n",
    "        self.nodes = nodes\n",
    "        self.edges = edges\n",
    "        \n",
    "    def insert_node(self, node_value):\n",
    "        new_node = Node(node_value)\n",
    "        self.nodes.append(new_node)\n",
    "    \n",
    "    def insert_edge(self, from_node_value, to_node_value, edge_value):\n",
    "        from_node = None\n",
    "        to_node = None\n",
    "        for node in self.nodes:\n",
    "            if from_node_value == node.value:\n",
    "                from_node = node\n",
    "            if to_node_value == node.value:\n",
    "                to_node = node\n",
    "        \n",
    "        if from_node == None:\n",
    "            from_node = Node(from_node_value)\n",
    "            self.nodes.append(from_node)\n",
    "        \n",
    "        if to_node == None:\n",
    "            to_node = Node(to_node_value)\n",
    "            self.nodes.append(to_node)\n",
    "            \n",
    "        new_edge = Edge(from_node, to_node, edge_value)\n",
    "        from_node.edges.append(new_edge)\n",
    "        to_node.edges.append(new_edge)\n",
    "        self.edges.append(new_edge) \n",
    "        \n",
    "    def deep_copy(self, root_node):\n",
    "        new_graph = Graph()\n",
    "        "
   ]
  },
  {
   "cell_type": "code",
   "execution_count": null,
   "metadata": {
    "collapsed": true
   },
   "outputs": [],
   "source": [
    "g1 = Graph()\n",
    "g1.insert_edge(0,1,10)\n",
    "g1.insert_edge(0,2,20)\n",
    "g1.insert_edge(0,3,50)\n",
    "g1.insert_edge(2,4,10)"
   ]
  },
  {
   "cell_type": "code",
   "execution_count": 104,
   "metadata": {
    "collapsed": true
   },
   "outputs": [],
   "source": [
    "class Node(object):\n",
    "    def __init__(self, value = None, neighbours = None):\n",
    "        self.value = value\n",
    "        self.neighbours = neighbours\n",
    "\n",
    "    \n",
    "def deep_clone(root_node):\n",
    "    node_map = {}\n",
    "    new_head = Node(root_node.value, [])\n",
    "    queue = [root_node]\n",
    "    node_map[root_node] = new_head\n",
    "    while queue:\n",
    "        current_node = queue.pop(0) \n",
    "        current_neighbours = current_node.neighbours\n",
    "        for neighbour in current_neighbours:\n",
    "            if not node_map.get(neighbour):\n",
    "                new_node = Node(neighbour.value, [])\n",
    "                node_map[neighbour] = new_node\n",
    "                node_map[current_node].neighbours.append(node_map[neighbour])\n",
    "                queue.append(neighbour)\n",
    "            else:\n",
    "                node_map[current_node].neighbours.append(node_map[neighbour])\n",
    "    print(node_map)\n",
    "    return node_map[root_node]"
   ]
  },
  {
   "cell_type": "code",
   "execution_count": 105,
   "metadata": {},
   "outputs": [],
   "source": [
    "n0 = Node(0, [])\n",
    "n1 = Node(1, [])\n",
    "n2 = Node(2, [])\n",
    "n3 = Node(3, [])\n",
    "n4 = Node(4, [])\n",
    "\n",
    "n0.neighbours.append(n1)\n",
    "n0.neighbours.append(n2)\n",
    "n1.neighbours.append(n2)\n",
    "n1.neighbours.append(n3)\n",
    "n1.neighbours.append(n4)\n",
    "n2.neighbours.append(n3)\n",
    "n3.neighbours.append(n4)\n"
   ]
  },
  {
   "cell_type": "code",
   "execution_count": 106,
   "metadata": {},
   "outputs": [
    {
     "name": "stdout",
     "output_type": "stream",
     "text": [
      "{<__main__.Node object at 0x10cc9c320>: <__main__.Node object at 0x10cc98400>, <__main__.Node object at 0x10cc9c2e8>: <__main__.Node object at 0x10cc983c8>, <__main__.Node object at 0x10cc9c358>: <__main__.Node object at 0x10cc98240>, <__main__.Node object at 0x10cc9c390>: <__main__.Node object at 0x10cc98198>, <__main__.Node object at 0x10cc9c3c8>: <__main__.Node object at 0x10cc98358>}\n"
     ]
    }
   ],
   "source": [
    "cloned_node = deep_clone(n0)"
   ]
  },
  {
   "cell_type": "code",
   "execution_count": 107,
   "metadata": {},
   "outputs": [
    {
     "data": {
      "text/plain": [
       "[<__main__.Node at 0x10cc983c8>, <__main__.Node at 0x10cc98240>]"
      ]
     },
     "execution_count": 107,
     "metadata": {},
     "output_type": "execute_result"
    }
   ],
   "source": [
    "cloned_node.neighbours"
   ]
  }
 ],
 "metadata": {
  "kernelspec": {
   "display_name": "Python 2",
   "language": "python",
   "name": "python2"
  },
  "language_info": {
   "codemirror_mode": {
    "name": "ipython",
    "version": 3
   },
   "file_extension": ".py",
   "mimetype": "text/x-python",
   "name": "python",
   "nbconvert_exporter": "python",
   "pygments_lexer": "ipython3",
   "version": "3.6.2"
  }
 },
 "nbformat": 4,
 "nbformat_minor": 2
}
