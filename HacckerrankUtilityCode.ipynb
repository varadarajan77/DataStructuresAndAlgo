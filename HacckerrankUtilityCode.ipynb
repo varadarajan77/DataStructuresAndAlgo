{
 "cells": [
  {
   "cell_type": "code",
   "execution_count": 8,
   "metadata": {
    "collapsed": true
   },
   "outputs": [],
   "source": [
    "import sys\n",
    "import numpy as np"
   ]
  },
  {
   "cell_type": "code",
   "execution_count": 10,
   "metadata": {},
   "outputs": [
    {
     "name": "stdout",
     "output_type": "stream",
     "text": [
      "1 2 3 4\n",
      "4 5 6 7\n",
      "\n",
      "[[ 1.  2.  3.  4.]\n",
      " [ 4.  5.  6.  7.]]\n"
     ]
    }
   ],
   "source": [
    "# Utility code to convery raw_input to numpy ndarrays (used for hackkerrank challenges)\n",
    "# Replace input to raw_input() for hackerrank\n",
    "\n",
    "X = np.array([])\n",
    "while True:\n",
    "    try:\n",
    "        utility_list = [float(x) for x in input().split()]\n",
    "\n",
    "#       Comment the following two lines when using code for hackerrank challenges\n",
    "        if len(utility_list) == 0:\n",
    "            break\n",
    "    \n",
    "        numpy_array = np.array(utility_list)\n",
    "        numpy_array = np.expand_dims(numpy_array, 0)\n",
    "        \n",
    "        if len(X) == 0:\n",
    "            X = np.append(X,numpy_array)\n",
    "            X = np.expand_dims(X, 0)\n",
    "        else:\n",
    "            X = np.append(X, numpy_array, axis = 0)\n",
    "    \n",
    "    except EOFError:\n",
    "        break\n",
    "        \n",
    "print(X)"
   ]
  }
 ],
 "metadata": {
  "kernelspec": {
   "display_name": "Python 2",
   "language": "python",
   "name": "python2"
  },
  "language_info": {
   "codemirror_mode": {
    "name": "ipython",
    "version": 3
   },
   "file_extension": ".py",
   "mimetype": "text/x-python",
   "name": "python",
   "nbconvert_exporter": "python",
   "pygments_lexer": "ipython3",
   "version": "3.6.2"
  }
 },
 "nbformat": 4,
 "nbformat_minor": 2
}
