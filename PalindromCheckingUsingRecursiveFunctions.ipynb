{
 "cells": [
  {
   "cell_type": "code",
   "execution_count": 12,
   "metadata": {},
   "outputs": [
    {
     "name": "stdout",
     "output_type": "stream",
     "text": [
      "Yes\n"
     ]
    }
   ],
   "source": [
    "def isPalRec(st, s, e) :\n",
    "     \n",
    "    # If there is only one character\n",
    "    if (s == e):\n",
    "        return True\n",
    " \n",
    "    # If first and last characters do not match\n",
    "    if (st[s] != st[e]) :\n",
    "        return False\n",
    " \n",
    "    # If there are more than two characters,\n",
    "    # check if middle substring is also\n",
    "    # palindrome or not.\n",
    "    if (s < e) :\n",
    "        return isPalRec(st, s+1, e-1);\n",
    " \n",
    "    return True\n",
    " \n",
    "def isPalindrome(st) :\n",
    "    n = len(st)\n",
    "     \n",
    "    # An empty string is considered as\n",
    "    # palindrome\n",
    "    if (n == 0) :\n",
    "        return True\n",
    "     \n",
    "    return isPalRec(st, 0, n-1);\n",
    " \n",
    " \n",
    "# Main Function\n",
    "st = \"goog\"\n",
    "if (isPalindrome(st)) :\n",
    "    print(\"Yes\")\n",
    "else :\n",
    "    print(\"No\")"
   ]
  },
  {
   "cell_type": "code",
   "execution_count": 14,
   "metadata": {
    "collapsed": true
   },
   "outputs": [],
   "source": [
    "def isPalCheck(string):\n",
    "    last_index = len(string)-1\n",
    "    first_index = 0\n",
    "    \n",
    "    while first_index < last_index:\n",
    "        if string[first_index] != string[last_index]:\n",
    "            return False\n",
    "        first_index +=1\n",
    "        last_index -= 1 \n",
    "    \n",
    "    return True "
   ]
  },
  {
   "cell_type": "code",
   "execution_count": 21,
   "metadata": {},
   "outputs": [
    {
     "name": "stdout",
     "output_type": "stream",
     "text": [
      "Yes\n"
     ]
    }
   ],
   "source": [
    "# Main Function\n",
    "st = \"s\"\n",
    "if (isPalCheck(st)) :\n",
    "    print(\"Yes\")\n",
    "else :\n",
    "    print(\"No\")"
   ]
  },
  {
   "cell_type": "code",
   "execution_count": 48,
   "metadata": {
    "collapsed": true
   },
   "outputs": [],
   "source": [
    "# Reverse a string \n",
    "def reverse_string(string):\n",
    "    string = list(string)\n",
    "    for i in range(int(len(string)/2)):\n",
    "        temp_character = string[i]\n",
    "        string[i] = string[len(string)-1-i]\n",
    "        string[len(string)-1-i] = temp_character\n",
    "    return \"\".join(string)"
   ]
  },
  {
   "cell_type": "code",
   "execution_count": 49,
   "metadata": {},
   "outputs": [
    {
     "name": "stdout",
     "output_type": "stream",
     "text": [
      "olleH\n"
     ]
    }
   ],
   "source": [
    "print(reverse_string(\"Hello\"))"
   ]
  },
  {
   "cell_type": "code",
   "execution_count": 58,
   "metadata": {
    "collapsed": true
   },
   "outputs": [],
   "source": [
    "# Find all palindromes in a string\n",
    "def find_all_palindromes(string):\n",
    "    palindromes = set()\n",
    "    for i in range(0,len(string)):\n",
    "        for j in range(i,len(string)):\n",
    "            if isPalCheck(string[i:j+1]):\n",
    "                palindromes.add(string[i:j+1])\n",
    "    \n",
    "    return palindromes\n",
    "    "
   ]
  },
  {
   "cell_type": "code",
   "execution_count": 59,
   "metadata": {},
   "outputs": [
    {
     "name": "stdout",
     "output_type": "stream",
     "text": [
      "{'a', 'bb', 'b', 'abba'}\n"
     ]
    }
   ],
   "source": [
    "print(find_all_palindromes(\"abba\"))"
   ]
  },
  {
   "cell_type": "markdown",
   "metadata": {},
   "source": [
    "## O(n^2) Solution"
   ]
  },
  {
   "cell_type": "code",
   "execution_count": 67,
   "metadata": {
    "collapsed": true
   },
   "outputs": [],
   "source": [
    "def find_all_palindrom(string):\n",
    "    palindromes = set()\n",
    "    \n",
    "    for i in range(0,len(string)):\n",
    "        #Odd length palindromes\n",
    "        pivot_odd = i\n",
    "        left = 0\n",
    "        right = 0\n",
    "        while pivot-left >= 0 and pivot+right < len(string) and string[pivot-left] == string[pivot+right]:\n",
    "            palindromes.add(string[pivot-left:pivot+right+1])\n",
    "            left +=1\n",
    "            right +=1 \n",
    "        \n",
    "        # Even length palindrom\n",
    "        pivot_even_1 = i-1\n",
    "        pivot_even_2 = i\n",
    "        left = 0\n",
    "        right = 0\n",
    "        while pivot_even_1-left >= 0 and pivot_even_2+right < len(string) and string[pivot_even_1-left] == string[pivot_even_2+right]:\n",
    "            palindromes.add(string[pivot-left:pivot+right+1])\n",
    "            left +=1\n",
    "            right +=1\n",
    "        \n",
    "    return palindromes"
   ]
  },
  {
   "cell_type": "code",
   "execution_count": 69,
   "metadata": {},
   "outputs": [
    {
     "name": "stdout",
     "output_type": "stream",
     "text": [
      "{'a', 'ara', 'b', 'rabar', 'barab', 'r', 'aba'}\n"
     ]
    }
   ],
   "source": [
    "print(find_all_palindromes(\"barbarabar\"))"
   ]
  },
  {
   "cell_type": "code",
   "execution_count": null,
   "metadata": {
    "collapsed": true
   },
   "outputs": [],
   "source": []
  }
 ],
 "metadata": {
  "kernelspec": {
   "display_name": "Python 2",
   "language": "python",
   "name": "python2"
  },
  "language_info": {
   "codemirror_mode": {
    "name": "ipython",
    "version": 3
   },
   "file_extension": ".py",
   "mimetype": "text/x-python",
   "name": "python",
   "nbconvert_exporter": "python",
   "pygments_lexer": "ipython3",
   "version": "3.6.2"
  }
 },
 "nbformat": 4,
 "nbformat_minor": 2
}
