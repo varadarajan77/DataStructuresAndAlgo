{
 "cells": [
  {
   "cell_type": "markdown",
   "metadata": {},
   "source": [
    "### Ascending Stack"
   ]
  },
  {
   "cell_type": "code",
   "execution_count": 9,
   "metadata": {},
   "outputs": [],
   "source": [
    "class AscendingStack():\n",
    "    values = []\n",
    "    \n",
    "    def __init__(self,value):\n",
    "        self.values.append(value)\n",
    "    \n",
    "    def pop(self):\n",
    "        if len(self.values) == 0:\n",
    "            return None\n",
    "        return self.values.pop()\n",
    "    \n",
    "    def push(self, value):\n",
    "        if self.peek() == None:\n",
    "            self.values.append(value)\n",
    "            return\n",
    "        \n",
    "        utility_stack = []\n",
    "        while self.peek() and self.peek() < value:\n",
    "            utility_stack.append(self.values.pop())\n",
    "        \n",
    "        self.values.append(value)\n",
    "        \n",
    "        while len(utility_stack)>0:\n",
    "            self.values.append(utility_stack.pop())\n",
    "        \n",
    "    def peek(self):\n",
    "        if len(self.values) != 0:\n",
    "            return self.values[-1]\n",
    "        return None"
   ]
  },
  {
   "cell_type": "code",
   "execution_count": 10,
   "metadata": {},
   "outputs": [
    {
     "name": "stdout",
     "output_type": "stream",
     "text": [
      "3\n",
      "4\n",
      "5\n",
      "6\n"
     ]
    }
   ],
   "source": [
    "s1 = AscendingStack(3)\n",
    "s1.push(4)\n",
    "s1.push(5)\n",
    "s1.push(6)\n",
    "\n",
    "print(s1.pop())\n",
    "print(s1.pop())\n",
    "print(s1.pop())\n",
    "print(s1.pop())"
   ]
  },
  {
   "cell_type": "markdown",
   "metadata": {},
   "source": [
    "### Reversing linked list"
   ]
  },
  {
   "cell_type": "code",
   "execution_count": 11,
   "metadata": {},
   "outputs": [],
   "source": [
    "class Node():\n",
    "    def __init__(self, value):\n",
    "        self.value = value\n",
    "        self.next = None\n",
    "\n",
    "class LinkedList():\n",
    "    def __init__(self, head = None):\n",
    "        self.head = head\n",
    "        \n",
    "    def add(self, node):\n",
    "        if self.head == None:\n",
    "            self.head = node\n",
    "            return\n",
    "        \n",
    "        current = self.head\n",
    "        while current.next:\n",
    "            current = current.next\n",
    "        \n",
    "        current.next = node\n",
    "        \n",
    "    def print(self):\n",
    "        return self.print_helper(self.head)\n",
    "    \n",
    "    def print_helper(self, current):\n",
    "        if current == None:\n",
    "            return       \n",
    "        return str(current.value) + '->' + str(self.print_helper(current.next))\n",
    "    \n",
    "    def reverse(self):\n",
    "        if self.head:\n",
    "            self.reverse_helper(self.head, None)\n",
    "        return \n",
    "    \n",
    "    def reverse_helper(self, current, previous):\n",
    "        if current.next == None:\n",
    "            self.head = current\n",
    "            current.next = previous\n",
    "            return\n",
    "        \n",
    "        self.reverse_helper(current.next, current)\n",
    "        current.next = previous"
   ]
  },
  {
   "cell_type": "code",
   "execution_count": 12,
   "metadata": {},
   "outputs": [],
   "source": [
    "n1 = Node(1)\n",
    "n2 = Node(2)\n",
    "n3 = Node(3)\n",
    "ll = LinkedList(n1)\n",
    "ll.add(n2)\n",
    "ll.add(n3)\n",
    "ll.add(Node(2))\n",
    "ll.add(Node(3))\n",
    "ll.add(Node(1))"
   ]
  },
  {
   "cell_type": "code",
   "execution_count": 13,
   "metadata": {},
   "outputs": [
    {
     "name": "stdout",
     "output_type": "stream",
     "text": [
      "1->2->3->2->3->1->None\n"
     ]
    }
   ],
   "source": [
    "print(ll.print())"
   ]
  },
  {
   "cell_type": "code",
   "execution_count": 14,
   "metadata": {},
   "outputs": [],
   "source": [
    "ll.reverse()"
   ]
  },
  {
   "cell_type": "code",
   "execution_count": 15,
   "metadata": {},
   "outputs": [
    {
     "name": "stdout",
     "output_type": "stream",
     "text": [
      "1->3->2->3->2->1->None\n"
     ]
    }
   ],
   "source": [
    "print(ll.print())"
   ]
  },
  {
   "cell_type": "code",
   "execution_count": null,
   "metadata": {
    "collapsed": true
   },
   "outputs": [],
   "source": []
  }
 ],
 "metadata": {
  "kernelspec": {
   "display_name": "Python 2",
   "language": "python",
   "name": "python2"
  },
  "language_info": {
   "codemirror_mode": {
    "name": "ipython",
    "version": 3
   },
   "file_extension": ".py",
   "mimetype": "text/x-python",
   "name": "python",
   "nbconvert_exporter": "python",
   "pygments_lexer": "ipython3",
   "version": "3.6.2"
  }
 },
 "nbformat": 4,
 "nbformat_minor": 2
}
