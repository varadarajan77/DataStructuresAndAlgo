{
 "cells": [
  {
   "cell_type": "markdown",
   "metadata": {},
   "source": [
    "### Largest sum subsequence"
   ]
  },
  {
   "cell_type": "code",
   "execution_count": 10,
   "metadata": {
    "collapsed": true
   },
   "outputs": [],
   "source": [
    "def largest_sum_subsequence(sequence):\n",
    "    max_sum = 0\n",
    "    running_sum = 0\n",
    "    max_sum_sequence = []\n",
    "    for number in sequence:\n",
    "        running_sum += number\n",
    "        if max_sum < running_sum:\n",
    "            max_sum = running_sum\n",
    "            \n",
    "        if running_sum < 0:\n",
    "            running_sum =0\n",
    "            \n",
    "    print(max_sum)"
   ]
  },
  {
   "cell_type": "code",
   "execution_count": 21,
   "metadata": {},
   "outputs": [
    {
     "name": "stdout",
     "output_type": "stream",
     "text": [
      "15\n"
     ]
    }
   ],
   "source": [
    "sequence = [1, 2, 3, 4, 5, -20, 6]\n",
    "largest_sum_subsequence(sequence)"
   ]
  },
  {
   "cell_type": "markdown",
   "metadata": {},
   "source": [
    "### Largest difference subsequence"
   ]
  },
  {
   "cell_type": "code",
   "execution_count": 14,
   "metadata": {
    "collapsed": true
   },
   "outputs": [],
   "source": [
    "def largest_difference_subsequence(sequence):\n",
    "    min_element = sequence[0]\n",
    "    max_diff = sequence[1] - sequence[0]\n",
    "    for i in range(1,len(sequence)):\n",
    "        running_difference = sequence[i] - min_element\n",
    "        if running_difference > max_diff:\n",
    "            max_diff = running_difference\n",
    "        \n",
    "        if min_element > sequence[i]:\n",
    "            min_element = sequence[i]\n",
    "    \n",
    "    return max_diff"
   ]
  },
  {
   "cell_type": "code",
   "execution_count": 22,
   "metadata": {},
   "outputs": [
    {
     "data": {
      "text/plain": [
       "21"
      ]
     },
     "execution_count": 22,
     "metadata": {},
     "output_type": "execute_result"
    }
   ],
   "source": [
    "sequence = [-11, -8, 8, -2, 4, 10]\n",
    "largest_difference_subsequence(sequence)"
   ]
  },
  {
   "cell_type": "markdown",
   "metadata": {},
   "source": [
    "### Merging list of intervals"
   ]
  },
  {
   "cell_type": "code",
   "execution_count": 37,
   "metadata": {},
   "outputs": [
    {
     "name": "stdout",
     "output_type": "stream",
     "text": [
      "[[1, 2], [3, 4], [5, 10], [12, 16]]\n"
     ]
    }
   ],
   "source": [
    "list_of_intervals = [[1,2],[3,4],[14,16],[7,9],[12,15],[5,10]]\n",
    "list_of_intervals.sort()\n",
    "\n",
    "merged_list_of_intervals = []\n",
    "merged_list_of_intervals.append(list_of_intervals[0])\n",
    "\n",
    "for i in range(1,len(list_of_intervals)):\n",
    "    interval = list_of_intervals[i]\n",
    "    if  merged_list_of_intervals[-1][1] < interval[0]:\n",
    "        merged_list_of_intervals.append(interval)\n",
    "    elif merged_list_of_intervals[-1][1] > interval[0] and merged_list_of_intervals[-1][1] < interval[1]:\n",
    "        merged_list_of_intervals[-1][1] = interval[1]    \n",
    "\n",
    "print(merged_list_of_intervals)"
   ]
  }
 ],
 "metadata": {
  "kernelspec": {
   "display_name": "Python 2",
   "language": "python",
   "name": "python2"
  },
  "language_info": {
   "codemirror_mode": {
    "name": "ipython",
    "version": 3
   },
   "file_extension": ".py",
   "mimetype": "text/x-python",
   "name": "python",
   "nbconvert_exporter": "python",
   "pygments_lexer": "ipython3",
   "version": "3.6.2"
  }
 },
 "nbformat": 4,
 "nbformat_minor": 2
}
