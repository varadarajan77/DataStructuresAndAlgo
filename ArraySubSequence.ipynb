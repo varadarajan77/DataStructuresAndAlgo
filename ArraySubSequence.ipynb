{
 "cells": [
  {
   "cell_type": "markdown",
   "metadata": {},
   "source": [
    "### Largest sum subsequence"
   ]
  },
  {
   "cell_type": "code",
   "execution_count": 10,
   "metadata": {},
   "outputs": [],
   "source": [
    "def largest_sum_subsequence(sequence):\n",
    "    max_sum = 0\n",
    "    running_sum = 0\n",
    "    max_sum_sequence = []\n",
    "    for number in sequence:\n",
    "        running_sum += number\n",
    "        if max_sum < running_sum:\n",
    "            max_sum = running_sum\n",
    "            \n",
    "        if running_sum < 0:\n",
    "            running_sum =0\n",
    "            \n",
    "    print(max_sum)"
   ]
  },
  {
   "cell_type": "code",
   "execution_count": 20,
   "metadata": {},
   "outputs": [
    {
     "name": "stdout",
     "output_type": "stream",
     "text": [
      "21\n"
     ]
    }
   ],
   "source": [
    "sequence = [1, 2, 3, 4, 5, -20, 21]\n",
    "largest_sum_subsequence(sequence)"
   ]
  },
  {
   "cell_type": "markdown",
   "metadata": {},
   "source": [
    "### Largest difference subsequence"
   ]
  },
  {
   "cell_type": "code",
   "execution_count": 14,
   "metadata": {
    "collapsed": true
   },
   "outputs": [],
   "source": [
    "def largest_difference_subsequence(sequence):\n",
    "    min_element = sequence[0]\n",
    "    max_diff = sequence[1] - sequence[0]\n",
    "    for i in range(1,len(sequence)):\n",
    "        running_difference = sequence[i] - min_element\n",
    "        if running_difference > max_diff:\n",
    "            max_diff = running_difference\n",
    "        \n",
    "        if min_element > sequence[i]:\n",
    "            min_element = sequence[i]\n",
    "    \n",
    "    return max_diff"
   ]
  },
  {
   "cell_type": "code",
   "execution_count": 15,
   "metadata": {},
   "outputs": [
    {
     "data": {
      "text/plain": [
       "16"
      ]
     },
     "execution_count": 15,
     "metadata": {},
     "output_type": "execute_result"
    }
   ],
   "source": [
    "sequence = [11, -8, 8, -2, 4, -10]\n",
    "largest_difference_subsequence(sequence)"
   ]
  },
  {
   "cell_type": "code",
   "execution_count": null,
   "metadata": {
    "collapsed": true
   },
   "outputs": [],
   "source": []
  }
 ],
 "metadata": {
  "kernelspec": {
   "display_name": "Python 2",
   "language": "python",
   "name": "python2"
  },
  "language_info": {
   "codemirror_mode": {
    "name": "ipython",
    "version": 3
   },
   "file_extension": ".py",
   "mimetype": "text/x-python",
   "name": "python",
   "nbconvert_exporter": "python",
   "pygments_lexer": "ipython3",
   "version": "3.6.2"
  }
 },
 "nbformat": 4,
 "nbformat_minor": 2
}
