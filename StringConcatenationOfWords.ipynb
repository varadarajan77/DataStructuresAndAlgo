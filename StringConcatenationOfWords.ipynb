{
 "cells": [
  {
   "cell_type": "code",
   "execution_count": 48,
   "metadata": {},
   "outputs": [],
   "source": [
    "def is_word_in_dictionary(word, dictionary):\n",
    "    if word in dictionary:\n",
    "        return True   \n",
    "    return False"
   ]
  },
  {
   "cell_type": "code",
   "execution_count": 49,
   "metadata": {
    "collapsed": true
   },
   "outputs": [],
   "source": [
    "def is_string_a_concatenation_of_words(string, dictionary):\n",
    "    \n",
    "    if len(string) == 0:\n",
    "        return True\n",
    "    \n",
    "    for i in range(1,len(string)+1):\n",
    "        if is_word_in_dictionary(string[0:i],dictionary) and is_string_a_concatenation_of_words(string[i:], dictionary):\n",
    "            return True\n",
    "    \n",
    "    return False"
   ]
  },
  {
   "cell_type": "code",
   "execution_count": 50,
   "metadata": {},
   "outputs": [
    {
     "name": "stdout",
     "output_type": "stream",
     "text": [
      "True\n"
     ]
    }
   ],
   "source": [
    "string = 'abcdefghi'\n",
    "dictionary = ['ab','cd','ef','gh','x','y','i','ghi']\n",
    "print(is_string_a_concatenation_of_words(string, dictionary))"
   ]
  },
  {
   "cell_type": "code",
   "execution_count": null,
   "metadata": {
    "collapsed": true
   },
   "outputs": [],
   "source": []
  }
 ],
 "metadata": {
  "kernelspec": {
   "display_name": "Python 2",
   "language": "python",
   "name": "python2"
  },
  "language_info": {
   "codemirror_mode": {
    "name": "ipython",
    "version": 3
   },
   "file_extension": ".py",
   "mimetype": "text/x-python",
   "name": "python",
   "nbconvert_exporter": "python",
   "pygments_lexer": "ipython3",
   "version": "3.6.2"
  }
 },
 "nbformat": 4,
 "nbformat_minor": 2
}
