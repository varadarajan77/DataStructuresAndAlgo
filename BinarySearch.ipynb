{
 "cells": [
  {
   "cell_type": "code",
   "execution_count": 43,
   "metadata": {},
   "outputs": [],
   "source": [
    "def binary_search(list_of_numbers, last_position, first_position, key):\n",
    "    \n",
    "    \n",
    "    middle_position = int((first_position + last_position)/2)\n",
    "    \n",
    "    # If element in not there in the list\n",
    "    if first_position == last_position and list_of_numbers[first_position] != key:\n",
    "        return -1\n",
    "    \n",
    "    # Perform binary search\n",
    "    if list_of_numbers[middle_position] == key:\n",
    "        return middle_position\n",
    "    elif list_of_numbers[middle_position] > key:\n",
    "        return binary_search(list_of_numbers,middle_position-1,first_position,key)\n",
    "    else: \n",
    "        return binary_search(list_of_numbers, last_position, middle_position+1,key)"
   ]
  },
  {
   "cell_type": "code",
   "execution_count": 72,
   "metadata": {
    "collapsed": true
   },
   "outputs": [],
   "source": [
    "x = [1,3,5,6,8,9,10,15,25,36,46,50,51]"
   ]
  },
  {
   "cell_type": "code",
   "execution_count": 73,
   "metadata": {},
   "outputs": [
    {
     "name": "stdout",
     "output_type": "stream",
     "text": [
      "The element 5 is found in positions: 0\n"
     ]
    }
   ],
   "source": [
    "position_of_element = binary_search(x, len(x)-1, 0, 1)\n",
    "\n",
    "if position_of_element != -1:\n",
    "    print(\"The element 5 is found in position: \" + str(position_of_element))\n",
    "else:\n",
    "    print(\"Element not found\")"
   ]
  },
  {
   "cell_type": "markdown",
   "metadata": {},
   "source": [
    "# Binary Search in a Sorted and Rotated Array"
   ]
  },
  {
   "cell_type": "code",
   "execution_count": 91,
   "metadata": {
    "collapsed": true
   },
   "outputs": [],
   "source": [
    "def search(list_of_numbers, key, first_position, last_position):\n",
    "    middle_position = int((first_position+last_position)/2)\n",
    "    \n",
    "    # If element in not there in the list\n",
    "    if first_position == last_position and list_of_numbers[first_position] != key:\n",
    "        return -1\n",
    "    \n",
    "    \n",
    "    if list_of_numbers[middle_position] == key:\n",
    "        return middle_position\n",
    "    \n",
    "    # Perform modified binary search\n",
    "    # If first half of array is sorted\n",
    "    if list_of_numbers[middle_position] >= list_of_numbers[first_position]:\n",
    "        if list_of_numbers[first_position] <= key and list_of_numbers[middle_position] >= key:\n",
    "            return search(list_of_numbers, key, first_position, middle_position-1)\n",
    "        return search(list_of_numbers, key, middle_position+1, last_position)\n",
    "    \n",
    "    if list_of_numbers[middle_position] <= key and list_of_numbers[last_position] >= key:\n",
    "            return search(list_of_numbers, key, middle_position+1, last_position)\n",
    "    return search(list_of_numbers, key, first_position, middle_position-1)"
   ]
  },
  {
   "cell_type": "code",
   "execution_count": 92,
   "metadata": {
    "collapsed": true
   },
   "outputs": [],
   "source": [
    "x = [10,20,30,50,3,5,7,9]"
   ]
  },
  {
   "cell_type": "code",
   "execution_count": 94,
   "metadata": {},
   "outputs": [
    {
     "name": "stdout",
     "output_type": "stream",
     "text": [
      "The element 9 is found in position: 7\n"
     ]
    }
   ],
   "source": [
    "element_to_search = 9\n",
    "position_of_element = search(x, element_to_search, 0, len(x)-1)\n",
    "\n",
    "if position_of_element != -1:\n",
    "    print(\"The element \" +str(element_to_search) +\" is found in position: \" + str(position_of_element))\n",
    "else:\n",
    "    print(\"Element not found\")"
   ]
  },
  {
   "cell_type": "markdown",
   "metadata": {},
   "source": [
    "# Find element in a sorted array of infinite size"
   ]
  },
  {
   "cell_type": "code",
   "execution_count": 106,
   "metadata": {},
   "outputs": [
    {
     "name": "stdout",
     "output_type": "stream",
     "text": [
      "The element 8 is found in position: 4\n"
     ]
    }
   ],
   "source": [
    "# Find the limits first\n",
    "x = [1,3,5,6,8,9,10,15,25,36,46,50,51,100,120,150,170]\n",
    "first_position = 0\n",
    "last_position = 1\n",
    "element_to_search = 8\n",
    "while not(element_to_search >= x[first_position] and element_to_search <= x[last_position]):\n",
    "    intermediate_position_holder = last_position\n",
    "    last_position = 2 * last_position\n",
    "    first_position = intermediate_position_holder\n",
    "\n",
    "position_of_element = binary_search(x, last_position, first_position, element_to_search)\n",
    "\n",
    "if position_of_element != -1:\n",
    "    print(\"The element \" +str(element_to_search) +\" is found in position: \" + str(position_of_element))\n",
    "else:\n",
    "    print(\"Element not found\")"
   ]
  },
  {
   "cell_type": "code",
   "execution_count": null,
   "metadata": {
    "collapsed": true
   },
   "outputs": [],
   "source": []
  }
 ],
 "metadata": {
  "kernelspec": {
   "display_name": "Python 3",
   "language": "python",
   "name": "python3"
  },
  "language_info": {
   "codemirror_mode": {
    "name": "ipython",
    "version": 3
   },
   "file_extension": ".py",
   "mimetype": "text/x-python",
   "name": "python",
   "nbconvert_exporter": "python",
   "pygments_lexer": "ipython3",
   "version": "3.6.2"
  }
 },
 "nbformat": 4,
 "nbformat_minor": 2
}
